{
 "cells": [
  {
   "cell_type": "code",
   "execution_count": null,
   "metadata": {
    "collapsed": true
   },
   "outputs": [],
   "source": [
    "import mail_management as mailobj\n",
    "import file_managment as fileobj\n",
    "import cx_Oracle\n",
    "import  pandas as pd\n",
    "import matplotlib as mpl\n",
    "import matplotlib.pyplot as plt\n",
    "import db_management as db\n",
    "\n",
    "'''\n",
    "attachments=[]\n",
    "fromlist=[]\n",
    "tolist=[\"mohamed.osman@bh.zain.com\"]\n",
    "attachments=fileobj.getdirectoryfile(\"D:\\HealthCheck\\SQL\")\n",
    "#print attachments\n",
    "\n",
    "flag = mailobj.send_mail( \"mohamed.osman@bh.zain.com\" ,tolist, \"Test\", \"PFA\",attachments, \"mail.bh.zain.com\")\n",
    "'''\n",
    "\n",
    "attachments=fileobj.getdirectoryfile(\"D:\\HealthCheck\\SQL\")\n",
    "\n",
    "db_obj=db.db_management(\"osman$\",\"osman_2016\",\"172.22.2.108\",\"1525\", \"WOWDB\")\n",
    "df_HC_BUNDLE_SUCCESS_TRANSACTIONS=db_obj.getDataFramefromQuery(\"SELECT * FROM OSMAN$.HC_BUNDLE_SUCCESS_TRANSACTIONS\")\n",
    "\n",
    "print(df_HC_BUNDLE_SUCCESS_TRANSACTIONS.pivot('INSERT_DATE','STATUS','COUNT_'))\n",
    "\n"
   ]
  },
  {
   "cell_type": "code",
   "execution_count": null,
   "metadata": {
    "collapsed": true
   },
   "outputs": [],
   "source": []
  },
  {
   "cell_type": "code",
   "execution_count": null,
   "metadata": {
    "collapsed": true
   },
   "outputs": [],
   "source": []
  }
 ],
 "metadata": {
  "kernelspec": {
   "display_name": "Python 2",
   "language": "python",
   "name": "python2"
  }
 },
 "nbformat": 4,
 "nbformat_minor": 0
}
