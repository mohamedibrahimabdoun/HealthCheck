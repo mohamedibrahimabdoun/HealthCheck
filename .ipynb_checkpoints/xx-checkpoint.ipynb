{
 "cells": [
  {
   "cell_type": "code",
   "execution_count": null,
   "metadata": {
    "collapsed": true
   },
   "outputs": [],
   "source": [
    "from __future__ import print_function\n",
    "import numpy\n",
    "from matplotlib.mlab import csv2rec\n",
    "import matplotlib.pyplot as plt\n",
    "import matplotlib.cbook as cbook\n",
    "from matplotlib.ticker import Formatter\n",
    "\n",
    "datafile = cbook.get_sample_data('msft.csv', asfileobj=False)\n",
    "print('loading %s' % datafile)\n",
    "r = csv2rec(datafile)[-40:]\n",
    "\n",
    "\n",
    "class MyFormatter(Formatter):\n",
    "    def __init__(self, dates, fmt='%Y-%m-%d'):\n",
    "        self.dates = dates\n",
    "        self.fmt = fmt\n",
    "\n",
    "    def __call__(self, x, pos=0):\n",
    "        'Return the label for time x at position pos'\n",
    "        ind = int(round(x))\n",
    "        if ind >= len(self.dates) or ind < 0:\n",
    "            return ''\n",
    "\n",
    "        return self.dates[ind].strftime(self.fmt)\n",
    "\n",
    "formatter = MyFormatter(r.date)\n",
    "\n",
    "fig, ax = plt.subplots()\n",
    "ax.xaxis.set_major_formatter(formatter)\n",
    "ax.plot(numpy.arange(len(r)), r.close, 'o-')\n",
    "fig.autofmt_xdate()\n",
    "plt.show()"
   ]
  },
  {
   "cell_type": "code",
   "execution_count": null,
   "metadata": {
    "collapsed": true
   },
   "outputs": [],
   "source": []
  },
  {
   "cell_type": "code",
   "execution_count": null,
   "metadata": {
    "collapsed": true
   },
   "outputs": [],
   "source": []
  }
 ],
 "metadata": {
  "kernelspec": {
   "display_name": "Python 2",
   "language": "python",
   "name": "python2"
  }
 },
 "nbformat": 4,
 "nbformat_minor": 0
}
