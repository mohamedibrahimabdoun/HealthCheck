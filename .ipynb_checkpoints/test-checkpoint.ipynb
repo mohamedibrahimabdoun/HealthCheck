{
 "cells": [
  {
   "cell_type": "code",
   "execution_count": null,
   "metadata": {
    "collapsed": true
   },
   "outputs": [],
   "source": [
    "import mail_management as mailobj\n",
    "import file_managment as fileobj\n",
    "import cx_Oracle\n",
    "import  pandas as pd\n",
    "import matplotlib as mpl\n",
    "import matplotlib.pyplot as plt\n",
    "\n",
    "'''\n",
    "attachments=[]\n",
    "fromlist=[]\n",
    "tolist=[\"mohamed.osman@bh.zain.com\"]\n",
    "attachments=fileobj.getdirectoryfile(\"D:\\HealthCheck\\SQL\")\n",
    "#print attachments\n",
    "\n",
    "flag = mailobj.send_mail( \"mohamed.osman@bh.zain.com\" ,tolist, \"Test\", \"PFA\",attachments, \"mail.bh.zain.com\")\n",
    "'''\n",
    "\n",
    "attachments=fileobj.getdirectoryfile(\"D:\\HealthCheck\\SQL\")\n",
    "\n",
    "dsnStr = cx_Oracle.makedsn(\"172.22.2.108\", \"1525\", \"WOWDB\")\n",
    "print dsnStr\n",
    "con = cx_Oracle.connect(\"osman$\",\"osman_2016\",dsnStr)\n",
    "c=con.cursor()\n",
    "for att in attachments :    \n",
    "    l=c.execute(fileobj.getfiletext(att))\n",
    "    #result= list(l)\n",
    "    df=pd.DataFrame(l.fetchall())\n",
    "   # print df.describe()\n",
    "    #df.plot(subplots=True)\n",
    "    #df.hist()\n",
    "    plot = df.plot.bar()\n",
    "   # fig = plot.get_figure()\n",
    "   # fig.savefig(\"d:\\output.png\")\n",
    "    print('finished!')"
   ]
  },
  {
   "cell_type": "code",
   "execution_count": null,
   "metadata": {
    "collapsed": true
   },
   "outputs": [],
   "source": []
  }
 ],
 "metadata": {
  "kernelspec": {
   "display_name": "Python 2",
   "language": "python",
   "name": "python2"
  }
 },
 "nbformat": 4,
 "nbformat_minor": 0
}
